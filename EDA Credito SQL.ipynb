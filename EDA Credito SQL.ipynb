{
 "cells": [
  {
   "cell_type": "markdown",
   "id": "eca7d5fc",
   "metadata": {
    "papermill": {
     "duration": 0.007192,
     "end_time": "2024-06-30T14:22:01.726576",
     "exception": false,
     "start_time": "2024-06-30T14:22:01.719384",
     "status": "completed"
    },
    "tags": []
   },
   "source": [
    "# Análise exploratória e descritiva de dados em SQL"
   ]
  },
  {
   "cell_type": "markdown",
   "id": "d7886033",
   "metadata": {
    "papermill": {
     "duration": 0.006324,
     "end_time": "2024-06-30T14:22:01.739775",
     "exception": false,
     "start_time": "2024-06-30T14:22:01.733451",
     "status": "completed"
    },
    "tags": []
   },
   "source": [
    "### 1\\. Introdução"
   ]
  },
  {
   "cell_type": "markdown",
   "id": "cdebb2f0",
   "metadata": {
    "papermill": {
     "duration": 0.006996,
     "end_time": "2024-06-30T14:22:01.753350",
     "exception": false,
     "start_time": "2024-06-30T14:22:01.746354",
     "status": "completed"
    },
    "tags": []
   },
   "source": [
    "A exploração de dados (EDA) é uma etapa crucial na análise de dados, permitindo uma compreensão profunda da natureza dos dados, a identificação de padrões e a revelação de tendências. Este trabalho abrange conceitos e técnicas essenciais para a compreensão e manipulação eficaz dos dados.\n",
    "\n",
    "Para este projeto, utilizei o AWS S3-bucket e o Athena para manipular dados em SQL e para a visualização gráfica foi utilizado o Excel. O AWS S3-bucket é um serviço de armazenamento em nuvem que permite armazenar e acessar grandes volumes de dados de maneira segura e escalável, ideal para armazenar datasets que podem ser acessados e analisados conforme necessário. O Athena é um serviço de consulta interativo que facilita a análise de dados diretamente no S3 usando SQL. Com o Athena, não é necessário carregar dados em um banco de dados separado, permitindo consultas rápidas e eficientes diretamente sobre os dados armazenados no S3. Juntas, essas ferramentas possibilitam uma manipulação ágil e flexível dos dados, otimizando o processo de análise.\n",
    "\n",
    "O objetivo desta análise é identificar padrões e tendências nos dados de crédito, fornecer insights sobre o comportamento dos clientes e auxiliar na tomada de decisões estratégicas. Pretendo explorar diversas ideias de insights, incluindo a análise do perfil de crédito dos clientes, a identificação de fatores que influenciam a aprovação ou rejeição de crédito e a previsão do comportamento futuro dos clientes com base nos dados históricos."
   ]
  },
  {
   "cell_type": "markdown",
   "id": "32dddeec",
   "metadata": {
    "papermill": {
     "duration": 0.006347,
     "end_time": "2024-06-30T14:22:01.767126",
     "exception": false,
     "start_time": "2024-06-30T14:22:01.760779",
     "status": "completed"
    },
    "tags": []
   },
   "source": [
    "### 1\\.2\\. Informações sobre o Dataset"
   ]
  },
  {
   "cell_type": "markdown",
   "id": "f136cf1b",
   "metadata": {
    "papermill": {
     "duration": 0.00626,
     "end_time": "2024-06-30T14:22:01.779995",
     "exception": false,
     "start_time": "2024-06-30T14:22:01.773735",
     "status": "completed"
    },
    "tags": []
   },
   "source": [
    "Os dados representam informações de clientes de um banco e contam com as seguintes colunas:\n",
    "\n",
    "idade = idade do cliente\n",
    "sexo = sexo do cliente (F ou M)\n",
    "dependentes = número de dependentes do cliente\n",
    "escolaridade = nível de escolaridade do clientes\n",
    "salario_anual = faixa salarial do cliente\n",
    "tipo_cartao = tipo de cartao do cliente\n",
    "qtd_produtos = quantidade de produtos comprados nos últimos 12 meses\n",
    "iteracoes_12m = quantidade de iterações/transacoes nos ultimos 12 meses\n",
    "meses_inativo_12m = quantidade de meses que o cliente ficou inativo\n",
    "limite_credito = limite de credito do cliente\n",
    "valor_transacoes_12m = valor das transações dos ultimos 12 meses\n",
    "qtd_transacoes_12m = quantidade de transacoes dos ultimos 12 meses\n",
    "\n",
    "\n",
    "A tabela foi criada no AWS Athena junto com o S3 Bucket, seguindo a Query:\n",
    "\n",
    "CREATE EXTERNAL TABLE IF NOT EXISTS default.credito ( <br>\n",
    "  `idade` INT,<br>\n",
    "  `sexo` STRING, <br>\n",
    "  `dependentes` INT, <br>\n",
    "  `escolaridade` STRING, <br>\n",
    "  `estado_civil` STRING, <br>\n",
    "  `salario_anual` STRING, <br>\n",
    "  `tipo_cartao` STRING, <br> \n",
    "  `qtd_produtos` BIGINT, <br>\n",
    "  `iteracoes_12m` INT, <br>\n",
    "  `meses_inativo_12m` INT, <br>\n",
    "  `limite_credito` FLOAT, <br>\n",
    "  `valor_transacoes_12m` FLOAT, <br>\n",
    "  `qtd_transacoes_12m` INT <br>\n",
    ") <br>\n",
    "<br>\n",
    "ROW FORMAT SERDE 'org.apache.hadoop.hive.serde2.lazy.LazySimpleSerDe' <br>\n",
    "WITH SERDEPROPERTIES ('serialization.format' = ',', 'field.delim' = ',')\n",
    "LOCATION 's3://bucket-leticialavieri-ebac/' <br>\n",
    "TBLPROPERTIES ('has_encrypted_data'='false'); <br>\n",
    "\n",
    "<br>\n",
    "\n",
    "O dataset esta em formato CSV e contem 172KB de tamanho. <br>\n",
    "Existe uma versão do dataser dos dados disponibilizados em: https://github.com/andre-marcos-perez/ebac-course-utils/tree/main/dataset"
   ]
  },
  {
   "cell_type": "markdown",
   "id": "c9072dd2",
   "metadata": {
    "papermill": {
     "duration": 0.006299,
     "end_time": "2024-06-30T14:22:01.792838",
     "exception": false,
     "start_time": "2024-06-30T14:22:01.786539",
     "status": "completed"
    },
    "tags": []
   },
   "source": [
    "---"
   ]
  },
  {
   "cell_type": "markdown",
   "id": "7bd0d017",
   "metadata": {
    "papermill": {
     "duration": 0.006167,
     "end_time": "2024-06-30T14:22:01.805566",
     "exception": false,
     "start_time": "2024-06-30T14:22:01.799399",
     "status": "completed"
    },
    "tags": []
   },
   "source": [
    "### 2\\. Exploração e Descrição dos dados"
   ]
  },
  {
   "cell_type": "markdown",
   "id": "76ed75e4",
   "metadata": {
    "papermill": {
     "duration": 0.006698,
     "end_time": "2024-06-30T14:22:01.818815",
     "exception": false,
     "start_time": "2024-06-30T14:22:01.812117",
     "status": "completed"
    },
    "tags": []
   },
   "source": [
    "* Qual a quantidade de informações temos na nossa base de dados?\n",
    "\n",
    "<br>\n",
    "\n",
    "**Query: SELECT count(*) FROM credito**\n",
    "\n",
    "<br>\n",
    "\n",
    "![Quantidade de Informações](https://github.com/LeticiaLavieri/EDA-credito-SQL/blob/main/Imagens/quantidade%20de%20linhas.PNG?raw=true)"
   ]
  },
  {
   "cell_type": "markdown",
   "id": "8ce8034e",
   "metadata": {
    "papermill": {
     "duration": 0.006282,
     "end_time": "2024-06-30T14:22:01.831787",
     "exception": false,
     "start_time": "2024-06-30T14:22:01.825505",
     "status": "completed"
    },
    "tags": []
   },
   "source": [
    "A base de dados original, disponibilizada no link acima, contém mais registros do que a amostra utilizada.<br>\n",
    "Na prática, quanto maior a quantidade de dados utilizada, mais confiável será a análise. No entanto, devido a restrições computacionais e financeiras, pode ser interessante reduzir a quantidade de dados para análise, especialmente para fins de estudo.\n",
    "\n",
    "<br>"
   ]
  },
  {
   "cell_type": "markdown",
   "id": "28295a25",
   "metadata": {
    "papermill": {
     "duration": 0.006237,
     "end_time": "2024-06-30T14:22:01.844514",
     "exception": false,
     "start_time": "2024-06-30T14:22:01.838277",
     "status": "completed"
    },
    "tags": []
   },
   "source": [
    "### 2\\.1\\. Como são os dados\n",
    "\n",
    "<br>\n",
    "\n",
    "**Query: SELECT * FROM credito LIMIT 10;**\n",
    "\n",
    "<br>\n",
    "\n",
    "![Visualização do dataset](https://github.com/LeticiaLavieri/EDA-credito-SQL/blob/main/Imagens/visualiza%C3%A7%C3%A3o%20Datase%2010%20linhas.PNG?raw=true)"
   ]
  },
  {
   "cell_type": "markdown",
   "id": "4ff986d9",
   "metadata": {
    "papermill": {
     "duration": 0.006219,
     "end_time": "2024-06-30T14:22:01.857263",
     "exception": false,
     "start_time": "2024-06-30T14:22:01.851044",
     "status": "completed"
    },
    "tags": []
   },
   "source": [
    "É possível visualizar a existencia de informações nulas na tabela (valor na)"
   ]
  },
  {
   "cell_type": "markdown",
   "id": "14e6dfce",
   "metadata": {
    "papermill": {
     "duration": 0.006217,
     "end_time": "2024-06-30T14:22:01.869994",
     "exception": false,
     "start_time": "2024-06-30T14:22:01.863777",
     "status": "completed"
    },
    "tags": []
   },
   "source": [
    "<br>\n",
    "\n",
    "* Quais os tipos de cada dado\n",
    "\n",
    "<br>\n",
    "\n",
    "**Query: DESCRIBE credito**\n",
    "\n",
    "<br>\n",
    "\n",
    "![Descrição](https://github.com/LeticiaLavieri/EDA-credito-SQL/blob/main/Imagens/descri%C3%A7%C3%A3o%20dos%20dados.PNG?raw=true)\n",
    "\n",
    "<br>"
   ]
  },
  {
   "cell_type": "markdown",
   "id": "555adc3d",
   "metadata": {
    "papermill": {
     "duration": 0.006161,
     "end_time": "2024-06-30T14:22:01.882636",
     "exception": false,
     "start_time": "2024-06-30T14:22:01.876475",
     "status": "completed"
    },
    "tags": []
   },
   "source": [
    "<br>\n",
    "\n",
    "* Quais são os tipos de escolaridade disponíveis no dataset?\n",
    "\n",
    "<br>\n",
    "\n",
    "**Query: SELECT DISTINCT escolaridade FROM credito**\n",
    "\n",
    "<br>\n",
    "\n",
    "![Escolaridade](https://github.com/LeticiaLavieri/EDA-credito-SQL/blob/main/Imagens/escolaridade.PNG?raw=true)\n",
    "\n",
    "\n",
    "Os dados abrangem diversos níveis de escolaridade e apresentam valores nulos (NA) em algumas entradas. Continuarei a investigação para identificar outros valores nulos presentes no conjunto de dados.\n",
    "\n",
    "<br>"
   ]
  },
  {
   "cell_type": "markdown",
   "id": "a39cff10",
   "metadata": {
    "papermill": {
     "duration": 0.006209,
     "end_time": "2024-06-30T14:22:01.895470",
     "exception": false,
     "start_time": "2024-06-30T14:22:01.889261",
     "status": "completed"
    },
    "tags": []
   },
   "source": [
    "<br>\n",
    "\n",
    "* Quais são os tipos de estado_civil disponíveis no dataset?\n",
    "\n",
    "<br>\n",
    "\n",
    "**Query: SELECT DISTINCT estado_civil FROM credito**\n",
    "\n",
    "<br>\n",
    "\n",
    "![Estado Civil](https://github.com/LeticiaLavieri/EDA-credito-SQL/blob/main/Imagens/estado%20civil.PNG?raw=true)\n",
    "\n",
    "\n",
    "É possivel visualizar a presença de mais valores nulos neste conjunto de dados\n",
    "\n",
    "<br>"
   ]
  },
  {
   "cell_type": "markdown",
   "id": "c5f7664b",
   "metadata": {
    "papermill": {
     "duration": 0.006431,
     "end_time": "2024-06-30T14:22:01.908447",
     "exception": false,
     "start_time": "2024-06-30T14:22:01.902016",
     "status": "completed"
    },
    "tags": []
   },
   "source": [
    "<br>\n",
    "\n",
    "* Quais são os tipos de salario_anual disponíveis no dataset?\n",
    "\n",
    "<br>\n",
    "\n",
    "**Query: SELECT DISTINCT salario_anual FROM credito**\n",
    "\n",
    "<br>\n",
    "\n",
    "![Salario](https://github.com/LeticiaLavieri/EDA-credito-SQL/blob/main/Imagens/salario%20anual.PNG?raw=true)\n",
    "\n",
    "Estas informações não representam o salário anual, mas sim, a faixa salarial dos clientes. Nesta coluna também existem valores nulos.\n",
    "\n",
    "<br>"
   ]
  },
  {
   "cell_type": "markdown",
   "id": "eb892f41",
   "metadata": {
    "papermill": {
     "duration": 0.006111,
     "end_time": "2024-06-30T14:22:01.921039",
     "exception": false,
     "start_time": "2024-06-30T14:22:01.914928",
     "status": "completed"
    },
    "tags": []
   },
   "source": [
    "<br>\n",
    "\n",
    "* Quais são os tipos de cartão disponíveis no dataset?\n",
    "\n",
    "<br>\n",
    "\n",
    "**Query: SELECT DISTINCT tipo_cartao FROM credito**\n",
    "\n",
    "<br>\n",
    "\n",
    "![Cartões](https://github.com/LeticiaLavieri/EDA-credito-SQL/blob/main/Imagens/tipo%20cart%C3%A3o.PNG?raw=true)\n"
   ]
  },
  {
   "cell_type": "markdown",
   "id": "009de72a",
   "metadata": {
    "papermill": {
     "duration": 0.006214,
     "end_time": "2024-06-30T14:22:01.933677",
     "exception": false,
     "start_time": "2024-06-30T14:22:01.927463",
     "status": "completed"
    },
    "tags": []
   },
   "source": [
    "---"
   ]
  },
  {
   "cell_type": "markdown",
   "id": "ce45b221",
   "metadata": {
    "papermill": {
     "duration": 0.006312,
     "end_time": "2024-06-30T14:22:01.946640",
     "exception": false,
     "start_time": "2024-06-30T14:22:01.940328",
     "status": "completed"
    },
    "tags": []
   },
   "source": [
    "### 3\\. Análise dos dados"
   ]
  },
  {
   "cell_type": "markdown",
   "id": "e3df8049",
   "metadata": {
    "papermill": {
     "duration": 0.006316,
     "end_time": "2024-06-30T14:22:01.959619",
     "exception": false,
     "start_time": "2024-06-30T14:22:01.953303",
     "status": "completed"
    },
    "tags": []
   },
   "source": [
    "Após explorar os dados e entender as informações contidas mo dataset, serás realizada uma a análise afim de identificar o que está ocorrendo no sistema e qual o perfil destes clientes.\n",
    "Para isso, serão formuladas perguntas específicas e estratégicas."
   ]
  },
  {
   "cell_type": "markdown",
   "id": "8bd08811",
   "metadata": {
    "papermill": {
     "duration": 0.007048,
     "end_time": "2024-06-30T14:22:01.973197",
     "exception": false,
     "start_time": "2024-06-30T14:22:01.966149",
     "status": "completed"
    },
    "tags": []
   },
   "source": [
    "* Quantos clientes há em cada faixa salarial?\n",
    "\n",
    "<br>\n",
    "\n",
    "**Query: SELECT COUNT(*) AS Quantidade_clientes,salario_anual FROM credito GROUP BY salario_anual;**\n",
    "\n",
    "<br>\n",
    "\n",
    "![Cliente por salario](https://github.com/LeticiaLavieri/EDA-credito-SQL/blob/main/Imagens/quantidade%20clientes%20por%20salario.PNG?raw=true)\n",
    "\n",
    "<div align=\"center\">\n",
    "    <img width=\"700\" title=\"Gráfico\" src=\"https://github.com/LeticiaLavieri/EDA-credito-SQL/blob/main/Imagens/grafico%20cliente%20por%20faixa%20salarial.png?raw=true\"/>\n",
    "</div>\n",
    "\n",
    "<br> \n",
    "\n",
    "A análise dos dados revela que a maioria dos clientes nesta base de dados possui uma renda inferior a 40 mil reais anuais. <br>\n",
    "Além disso, foi possivel identificar que há 235 clientes cujas informações sobre faixa salarial estão ausentes ou não foram fornecidas. <br>\n",
    "Este segmento representa uma parte significativa da base de clientes. Dessa forma, pode ser estrategicamente vantajoso para a empresa direcionar seus esforços e campanhas de marketing para atender às necessidades e preferências desse público de menor renda. Focar nesse grupo pode aumentar a fidelização e a satisfação dos clientes, além de abrir novas oportunidades de mercado.\n",
    "\n",
    "<br>"
   ]
  },
  {
   "cell_type": "markdown",
   "id": "a0bafe92",
   "metadata": {
    "papermill": {
     "duration": 0.006284,
     "end_time": "2024-06-30T14:22:01.986106",
     "exception": false,
     "start_time": "2024-06-30T14:22:01.979822",
     "status": "completed"
    },
    "tags": []
   },
   "source": [
    "<br>\n",
    "\n",
    "* Quantos clientes são homens e quantos são mulheres?\n",
    "\n",
    "<br>\n",
    "\n",
    "**Query 1: SELECT COUNT(*) AS Quantidade_clientes, sexo FROM credito GROUP BY sexo;**\n",
    "\n",
    "<br>\n",
    "\n",
    "![clientes por genero](https://github.com/LeticiaLavieri/EDA-credito-SQL/blob/main/Imagens/quantidade%20clientes%20por%20sexo.PNG?raw=true)\n",
    "\n",
    "<div align=\"center\">\n",
    "    <img width=\"700\" title=\"Pizza\" src=\"https://github.com/LeticiaLavieri/EDA-credito-SQL/blob/main/Imagens/grafico%20cliente%20por%20genero.png?raw=true\"/>\n",
    "</div>\n",
    "\n",
    "A análise indica que a maioria dos clientes desse banco é do sexo masculino. Com base nisso é possivel elaborar estratégias em expansão e diversificação de clientes.\n",
    "\n",
    "<br>\n",
    "\n",
    "**Query 2: SELECT COUNT(*) AS Quantidade,\tsexo, salario_anual FROM credito GROUP BY sexo,\tsalario_anual;**\n",
    "\n",
    "![por genero](https://github.com/LeticiaLavieri/EDA-credito-SQL/blob/main/Imagens/quantidade%20clientes%20por%20sexo%20e%20salario.PNG?raw=true)\n",
    "\n",
    "<br> \n",
    "\n",
    "A tabela fornecida apresenta a quantidade de clientes segmentada por sexo e faixa salarial anual.\n",
    "\n",
    "* Faixa de Menos de 40K: É a faixa com a maior quantidade de clientes (597) e majoritariamente composta por mulheres.\n",
    "* Faixas de 40K a 60K, 60K a 80K, 80K a 120K e Mais de 120K: Essas faixas possuem predominantemente clientes do sexo masculino, com a quantidade de clientes diminuindo conforme a faixa salarial aumenta (274, 451, 488 e 222 respectivamente).\n",
    "* Há 235 clientes sem informação de faixa salarial (211 mulheres e 24 homens), indicando um potencial ponto de atenção para melhorar a coleta de dados e a personalização dos serviços.\n",
    "\n",
    "\n",
    "Com base nessas informações, é possível desenvolver soluções de negócios alinhadas ao perfil dos clientes identificados. Algumas estratégias incluem:\n",
    "\n",
    "Desenvolvimento de Produtos e Serviços Financeiros Personalizados:\n",
    "\n",
    "Para Homens de Alta Renda: Focar no desenvolvimento de produtos e serviços financeiros direcionados aos homens, especialmente nas faixas salariais mais altas (acima de $40K). Essa estrategia e vantajosa, pois essa demografia é significativa nas faixas salariais superiores, apresentando um potencial elevado para produtos premium e de investimentos avançados.\n",
    "Exploração de Novos Segmentos de Mercado:\n",
    "\n",
    "Mulheres e Indivíduos de Renda Média ou Baixa: Avaliar oportunidades para desenvolver novos produtos que atraiam segmentos atualmente sub-representados, como mulheres e indivíduos de renda média ou baixa. Essa abordagem não só diversificará a carteira de clientes, mas também promoverá a inclusão financeira e melhorará a retenção desse segmento. As mulheres constituem a maior parte da faixa de renda abaixo de $40K, indicando um potencial significativo para programas e serviços acessíveis.\n",
    "Melhoria na Coleta de Dados:\n",
    "\n",
    "Processos de Coleta de Dados: Implementar processos robustos para garantir que todos os clientes forneçam informações completas sobre sua faixa salarial. Isso melhorará a qualidade dos dados disponíveis, permitindo análises mais precisas e segmentações mais eficazes. Dados completos e precisos são essenciais para personalizar ofertas e estratégias de marketing, além de identificar novas oportunidades de mercado com mais assertividade.\n",
    "Essas ações estratégicas podem ajudar a maximizar o valor do negócio, garantindo que os produtos e serviços estejam alinhados com as características e necessidades dos diferentes segmentos de clientes, além de abrir novas oportunidades de crescimento e melhorar a satisfação do cliente.\n",
    "<br>\n"
   ]
  },
  {
   "cell_type": "markdown",
   "id": "d6ecb86d",
   "metadata": {
    "papermill": {
     "duration": 0.006365,
     "end_time": "2024-06-30T14:22:01.999118",
     "exception": false,
     "start_time": "2024-06-30T14:22:01.992753",
     "status": "completed"
    },
    "tags": []
   },
   "source": [
    "<br>\n",
    "\n",
    "* Quais as características dos clientes que possuem os maiores e menores creditos?\n",
    "\n",
    "<br>\n",
    "\n",
    "Query 1: \n",
    "\n",
    "SELECT \n",
    "    MAX(limite_credito) AS limite_maximo,\n",
    "    escolaridade,\n",
    "    tipo_cartao,\n",
    "    sexo\n",
    "FROM credito \n",
    "WHERE\n",
    "    escolaridade != 'na' AND \n",
    "    tipo_cartao != 'na'\n",
    "GROUP BY \n",
    "    escolaridade,\n",
    "    tipo_cartao,\n",
    "    sexo \n",
    "ORDER BY \n",
    "    limite_maximo DESC LIMIT 10;\n",
    "\n",
    "<br>\n",
    "\n",
    "![Max](https://github.com/LeticiaLavieri/EDA-credito-SQL/blob/main/Imagens/LIMITE%20MAX%20POR%20ESCOLARIDADE.png?raw=true)\n",
    "\n",
    "<br>\n",
    "\n",
    "Query 2:\n",
    "\n",
    "SELECT\n",
    "    MAX(limite_credito) AS limite_minimo,\n",
    "    escolaridade,\n",
    "    tipo_cartao,\n",
    "    sexo \n",
    "FROM credito\n",
    "WHERE escolaridade != 'na' AND tipo_cartao != 'na' \n",
    "GROUP BY \n",
    "    escolaridade, \n",
    "    tipo_cartao,\n",
    "    sexo \n",
    "ORDER BY limite_minimo ASC LIMIT 10;\n",
    "\n",
    "<br>\n",
    "\n",
    "![Min](https://github.com/LeticiaLavieri/EDA-credito-SQL/blob/main/Imagens/LIMITE%20Min%20POR%20ESCOLARIDADE.PNG?raw=true)\n",
    "\n",
    "<br>\n",
    "\n",
    "Não parece haver um impacto significativo da escolaridade no limite de crédito oferecido. O limite mais alto foi concedido a um homem sem educação formal, indicando que fatores além da escolaridade estão influenciando as decisões de crédito.\n",
    "A ausência de uma relação clara entre escolaridade e limite de crédito sugere que outros fatores, possivelmente renda, histórico de crédito ou perfil de risco, são mais determinantes na definição dos limites de crédito. A empresa deve investigar esses fatores adicionais para entender melhor o processo de concessão de crédito.\n",
    "\n",
    "O tipo de cartão de crédito também não parece estar fortemente relacionado com a escolaridade ou o limite de crédito. Entre os maiores limites de crédito, encontramos clientes com cartões Gold, Silver, Platinum e Blue, sem uma correlação clara entre o tipo de cartão e o nível de escolaridade ou o valor do limite.\n",
    "É notável que não há clientes com cartões Platinum entre os menores limites de crédito, sugerindo que este tipo de cartão pode estar reservado para clientes com melhores perfis de crédito ou histórico financeiro mais sólido.\n",
    "A diversidade de tipos de cartões (Gold, Silver, Platinum, Blue) entre os clientes com maiores limites de crédito indica que o tipo de cartão não é um fator restritivo por si só. No entanto, a ausência de cartões Platinum entre os menores limites sugere um possível critério de seleção mais rigoroso para esses cartões. Avaliar e possivelmente ajustar esses critérios pode ajudar a garantir uma oferta mais equitativa e baseada em mérito.\n",
    "\n",
    "\n",
    "A maioria dos menores limites de crédito são oferecidos a mulheres, enquanto os maiores limites são predominantemente concedidos a homens. Isso pode indicar um possível viés ou critérios específicos na concessão de crédito que favorecem homens em termos de limites mais altos. A diferença observada entre os limites de crédito concedidos a homens e mulheres aponta para uma necessidade de revisar as políticas e práticas de concessão de crédito. Garantir que não haja discriminação e que as decisões de crédito sejam baseadas em critérios justos e transparentes é essencial para promover a equidade de gênero.\n",
    "\n",
    "Compreender que a escolaridade não é um fator significativo pode permitir à empresa focar em outras formas de segmentação e personalização de ofertas. Por exemplo, campanhas de marketing e produtos financeiros podem ser melhor direcionados com base em renda, comportamento de gasto, ou histórico de crédito.\n",
    "\n"
   ]
  },
  {
   "cell_type": "markdown",
   "id": "2d3ec457",
   "metadata": {
    "papermill": {
     "duration": 0.006355,
     "end_time": "2024-06-30T14:22:02.012258",
     "exception": false,
     "start_time": "2024-06-30T14:22:02.005903",
     "status": "completed"
    },
    "tags": []
   },
   "source": [
    "---"
   ]
  },
  {
   "cell_type": "markdown",
   "id": "4cc47e2c",
   "metadata": {
    "papermill": {
     "duration": 0.006245,
     "end_time": "2024-06-30T14:22:02.025213",
     "exception": false,
     "start_time": "2024-06-30T14:22:02.018968",
     "status": "completed"
    },
    "tags": []
   },
   "source": [
    "### 4\\. Conclusão"
   ]
  },
  {
   "cell_type": "markdown",
   "id": "fcbb3d1e",
   "metadata": {
    "papermill": {
     "duration": 0.006417,
     "end_time": "2024-06-30T14:22:02.038137",
     "exception": false,
     "start_time": "2024-06-30T14:22:02.031720",
     "status": "completed"
    },
    "tags": []
   },
   "source": [
    "A análise dos dados, realizada utilizando SQL e AWS, revelou insights cruciais sobre a dinâmica de concessão de crédito e os perfis dos clientes. Inicialmente, observamos que a escolaridade não tem um impacto significativo no limite de crédito oferecido. O limite mais alto foi concedido a um homem sem educação formal, sugerindo que fatores como renda, histórico de crédito e perfil de risco são mais determinantes nas decisões de crédito. A empresa deve investigar esses fatores adicionais para entender melhor o processo de concessão de crédito e otimizar suas estratégias.\n",
    "\n",
    "Além disso, o tipo de cartão de crédito não está fortemente relacionado com a escolaridade ou o limite de crédito. Entre os maiores limites de crédito, encontramos clientes com cartões Gold, Silver, Platinum e Blue, sem uma correlação clara entre o tipo de cartão e o nível de escolaridade ou o valor do limite. A ausência de cartões Platinum entre os menores limites sugere que este tipo de cartão pode ser reservado para clientes com melhores perfis de crédito. Avaliar e possivelmente ajustar os critérios de seleção para cartões Platinum pode garantir uma oferta mais equitativa e baseada em mérito.\n",
    "\n",
    "A análise também revelou que a maioria dos menores limites de crédito são oferecidos a mulheres, enquanto os maiores limites são predominantemente concedidos a homens. Essa diferença indica a necessidade de revisar as políticas e práticas de concessão de crédito para assegurar que as decisões sejam baseadas em critérios justos e transparentes, promovendo a equidade de gênero. A criação de programas de educação financeira voltados especialmente para mulheres pode ajudá-las a melhorar seus perfis financeiros e, consequentemente, alcançar limites de crédito mais altos, promovendo a inclusão financeira e fortalecendo a fidelização desse segmento de clientes.\n",
    "\n",
    "A compreensão de que a escolaridade não é um fator significativo permite à empresa focar em outras formas de segmentação e personalização de ofertas. Campanhas de marketing e produtos financeiros podem ser melhor direcionados com base em renda, comportamento de gasto e histórico de crédito, otimizando os esforços de marketing e melhorando a eficácia das ofertas.\n",
    "\n",
    "Por fim, a análise revelou que a maioria dos clientes possui uma renda inferior a 40 mil reais anuais e que 235 clientes não forneceram informações sobre a faixa salarial. Este grupo representa uma parte significativa da base de clientes. Direcionar esforços e campanhas de marketing para atender às necessidades desse público de menor renda pode aumentar a fidelização e a satisfação dos clientes, além de abrir novas oportunidades de mercado. Implementar processos robustos para garantir que todos os clientes forneçam informações completas sobre sua faixa salarial também melhorará a qualidade dos dados disponíveis, permitindo análises mais precisas e segmentações mais eficazes.\n",
    "\n",
    "A análise utilizando SQL e AWS permitiu identificar áreas de melhoria e oportunidades de crescimento, destacando a importância de uma abordagem baseada em dados para a tomada de decisões estratégicas."
   ]
  }
 ],
 "metadata": {
  "kaggle": {
   "accelerator": "none",
   "dataSources": [],
   "dockerImageVersionId": 30732,
   "isGpuEnabled": false,
   "isInternetEnabled": true,
   "language": "python",
   "sourceType": "notebook"
  },
  "kernelspec": {
   "display_name": "Python 3",
   "language": "python",
   "name": "python3"
  },
  "language_info": {
   "codemirror_mode": {
    "name": "ipython",
    "version": 3
   },
   "file_extension": ".py",
   "mimetype": "text/x-python",
   "name": "python",
   "nbconvert_exporter": "python",
   "pygments_lexer": "ipython3",
   "version": "3.10.13"
  },
  "papermill": {
   "default_parameters": {},
   "duration": 3.639193,
   "end_time": "2024-06-30T14:22:02.364556",
   "environment_variables": {},
   "exception": null,
   "input_path": "__notebook__.ipynb",
   "output_path": "__notebook__.ipynb",
   "parameters": {},
   "start_time": "2024-06-30T14:21:58.725363",
   "version": "2.5.0"
  }
 },
 "nbformat": 4,
 "nbformat_minor": 5
}
